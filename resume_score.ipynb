{
 "cells": [
  {
   "cell_type": "code",
   "execution_count": 541,
   "id": "acb9913d",
   "metadata": {},
   "outputs": [],
   "source": [
    "import numpy as np\n",
    "import pandas as pd\n",
    "import matplotlib.pyplot as plt\n",
    "%matplotlib inline\n",
    "import seaborn as sns"
   ]
  },
  {
   "cell_type": "code",
   "execution_count": 542,
   "id": "10be184d",
   "metadata": {},
   "outputs": [],
   "source": [
    "file=pd.read_csv(\"resu.csv\",nrows=234)"
   ]
  },
  {
   "cell_type": "code",
   "execution_count": 543,
   "id": "47372593",
   "metadata": {},
   "outputs": [
    {
     "data": {
      "text/html": [
       "<div>\n",
       "<style scoped>\n",
       "    .dataframe tbody tr th:only-of-type {\n",
       "        vertical-align: middle;\n",
       "    }\n",
       "\n",
       "    .dataframe tbody tr th {\n",
       "        vertical-align: top;\n",
       "    }\n",
       "\n",
       "    .dataframe thead th {\n",
       "        text-align: right;\n",
       "    }\n",
       "</style>\n",
       "<table border=\"1\" class=\"dataframe\">\n",
       "  <thead>\n",
       "    <tr style=\"text-align: right;\">\n",
       "      <th></th>\n",
       "      <th>Category</th>\n",
       "      <th>Resume</th>\n",
       "    </tr>\n",
       "  </thead>\n",
       "  <tbody>\n",
       "    <tr>\n",
       "      <th>0</th>\n",
       "      <td>1</td>\n",
       "      <td>Skills * Programming Languages: Python (pandas...</td>\n",
       "    </tr>\n",
       "    <tr>\n",
       "      <th>1</th>\n",
       "      <td>1</td>\n",
       "      <td>Education Details _x000D_\\nMay 2013 to May 201...</td>\n",
       "    </tr>\n",
       "    <tr>\n",
       "      <th>2</th>\n",
       "      <td>1</td>\n",
       "      <td>Areas of Interest Deep Learning, Control Syste...</td>\n",
       "    </tr>\n",
       "    <tr>\n",
       "      <th>3</th>\n",
       "      <td>1</td>\n",
       "      <td>Skills Ã¢Â€Â¢ R Ã¢Â€Â¢ Python Ã¢Â€Â¢ SAP HANA ...</td>\n",
       "    </tr>\n",
       "    <tr>\n",
       "      <th>4</th>\n",
       "      <td>1</td>\n",
       "      <td>Education Details _x000D_\\n MCA   YMCAUST,  Fa...</td>\n",
       "    </tr>\n",
       "    <tr>\n",
       "      <th>...</th>\n",
       "      <td>...</td>\n",
       "      <td>...</td>\n",
       "    </tr>\n",
       "    <tr>\n",
       "      <th>229</th>\n",
       "      <td>7</td>\n",
       "      <td>Skill Sets: Ã¢Â€Â¢ Multi-tasking Ã¢Â€Â¢ Collab...</td>\n",
       "    </tr>\n",
       "    <tr>\n",
       "      <th>230</th>\n",
       "      <td>7</td>\n",
       "      <td>Education Details _x000D_\\n Bachelor's   _x000...</td>\n",
       "    </tr>\n",
       "    <tr>\n",
       "      <th>231</th>\n",
       "      <td>7</td>\n",
       "      <td>SKILLS 1. MS-Office 2. Good Communication skil...</td>\n",
       "    </tr>\n",
       "    <tr>\n",
       "      <th>232</th>\n",
       "      <td>7</td>\n",
       "      <td>KEY SKILLS: Ã¢Â€Â¢ Planning &amp; Strategizing Ã¢Â...</td>\n",
       "    </tr>\n",
       "    <tr>\n",
       "      <th>233</th>\n",
       "      <td>7</td>\n",
       "      <td>IT Skills: MS Office. Photoshop. SQL Server.Ed...</td>\n",
       "    </tr>\n",
       "  </tbody>\n",
       "</table>\n",
       "<p>234 rows × 2 columns</p>\n",
       "</div>"
      ],
      "text/plain": [
       "     Category                                             Resume\n",
       "0           1  Skills * Programming Languages: Python (pandas...\n",
       "1           1  Education Details _x000D_\\nMay 2013 to May 201...\n",
       "2           1  Areas of Interest Deep Learning, Control Syste...\n",
       "3           1  Skills Ã¢Â€Â¢ R Ã¢Â€Â¢ Python Ã¢Â€Â¢ SAP HANA ...\n",
       "4           1  Education Details _x000D_\\n MCA   YMCAUST,  Fa...\n",
       "..        ...                                                ...\n",
       "229         7  Skill Sets: Ã¢Â€Â¢ Multi-tasking Ã¢Â€Â¢ Collab...\n",
       "230         7  Education Details _x000D_\\n Bachelor's   _x000...\n",
       "231         7  SKILLS 1. MS-Office 2. Good Communication skil...\n",
       "232         7  KEY SKILLS: Ã¢Â€Â¢ Planning & Strategizing Ã¢Â...\n",
       "233         7  IT Skills: MS Office. Photoshop. SQL Server.Ed...\n",
       "\n",
       "[234 rows x 2 columns]"
      ]
     },
     "execution_count": 543,
     "metadata": {},
     "output_type": "execute_result"
    }
   ],
   "source": [
    "file"
   ]
  },
  {
   "cell_type": "code",
   "execution_count": 597,
   "id": "6cff53d2",
   "metadata": {},
   "outputs": [
    {
     "data": {
      "text/html": [
       "<div>\n",
       "<style scoped>\n",
       "    .dataframe tbody tr th:only-of-type {\n",
       "        vertical-align: middle;\n",
       "    }\n",
       "\n",
       "    .dataframe tbody tr th {\n",
       "        vertical-align: top;\n",
       "    }\n",
       "\n",
       "    .dataframe thead th {\n",
       "        text-align: right;\n",
       "    }\n",
       "</style>\n",
       "<table border=\"1\" class=\"dataframe\">\n",
       "  <thead>\n",
       "    <tr style=\"text-align: right;\">\n",
       "      <th></th>\n",
       "      <th>Resume</th>\n",
       "    </tr>\n",
       "  </thead>\n",
       "  <tbody>\n",
       "    <tr>\n",
       "      <th>0</th>\n",
       "      <td>Skills * Programming Languages: Python (pandas...</td>\n",
       "    </tr>\n",
       "    <tr>\n",
       "      <th>1</th>\n",
       "      <td>Education Details _x005F_x000D_\\nMay 2013 to M...</td>\n",
       "    </tr>\n",
       "    <tr>\n",
       "      <th>2</th>\n",
       "      <td>Areas of Interest Deep Learning, Control Syste...</td>\n",
       "    </tr>\n",
       "    <tr>\n",
       "      <th>3</th>\n",
       "      <td>Skills ÃƒÂ¢Ã‚â‚¬Ã‚Â¢ R ÃƒÂ¢Ã‚â‚¬Ã‚Â¢ Python Ãƒ...</td>\n",
       "    </tr>\n",
       "    <tr>\n",
       "      <th>4</th>\n",
       "      <td>Education Details _x005F_x000D_\\n MCA   YMCAUS...</td>\n",
       "    </tr>\n",
       "    <tr>\n",
       "      <th>...</th>\n",
       "      <td>...</td>\n",
       "    </tr>\n",
       "    <tr>\n",
       "      <th>228</th>\n",
       "      <td>Operating Systems Windows XP, 7, 10. Tools/Pac...</td>\n",
       "    </tr>\n",
       "    <tr>\n",
       "      <th>229</th>\n",
       "      <td>Computer Skills: Languages And Script: JSP, Se...</td>\n",
       "    </tr>\n",
       "    <tr>\n",
       "      <th>230</th>\n",
       "      <td>Education Details _x005F_x000D_\\nJanuary 2016 ...</td>\n",
       "    </tr>\n",
       "    <tr>\n",
       "      <th>231</th>\n",
       "      <td>TECHNICAL SKILLS Programming Languages: Java (...</td>\n",
       "    </tr>\n",
       "    <tr>\n",
       "      <th>232</th>\n",
       "      <td>SKILLS: - 1) Team leading 2) Self-motivated 3)...</td>\n",
       "    </tr>\n",
       "  </tbody>\n",
       "</table>\n",
       "<p>233 rows × 1 columns</p>\n",
       "</div>"
      ],
      "text/plain": [
       "                                                Resume\n",
       "0    Skills * Programming Languages: Python (pandas...\n",
       "1    Education Details _x005F_x000D_\\nMay 2013 to M...\n",
       "2    Areas of Interest Deep Learning, Control Syste...\n",
       "3    Skills ÃƒÂ¢Ã‚â‚¬Ã‚Â¢ R ÃƒÂ¢Ã‚â‚¬Ã‚Â¢ Python Ãƒ...\n",
       "4    Education Details _x005F_x000D_\\n MCA   YMCAUS...\n",
       "..                                                 ...\n",
       "228  Operating Systems Windows XP, 7, 10. Tools/Pac...\n",
       "229  Computer Skills: Languages And Script: JSP, Se...\n",
       "230  Education Details _x005F_x000D_\\nJanuary 2016 ...\n",
       "231  TECHNICAL SKILLS Programming Languages: Java (...\n",
       "232  SKILLS: - 1) Team leading 2) Self-motivated 3)...\n",
       "\n",
       "[233 rows x 1 columns]"
      ]
     },
     "execution_count": 597,
     "metadata": {},
     "output_type": "execute_result"
    }
   ],
   "source": [
    "file1=pd.read_csv(\"webD_resupro.csv\",nrows=233)\n",
    "file2=pd.read_csv(\"java_resupro.csv\",nrows=233)\n",
    "file3=pd.read_csv(\"datas_resupro.csv\",nrows=233)\n",
    "file4=pd.read_csv(\"Civil_resupro.csv\",nrows=233)\n",
    "file5=pd.read_csv(\"Mechanical_resupro.csv\",nrows=233)\n",
    "\n",
    "p=file1[['Resume']]\n",
    "p\n"
   ]
  },
  {
   "cell_type": "code",
   "execution_count": 545,
   "id": "b37a0c1a",
   "metadata": {},
   "outputs": [],
   "source": [
    "y=file[['Category']]\n",
    "x=file1[['Resume']]"
   ]
  },
  {
   "cell_type": "code",
   "execution_count": 546,
   "id": "7dcc4323",
   "metadata": {},
   "outputs": [],
   "source": [
    "import re\n",
    "import nltk\n",
    "\n",
    "from nltk.corpus import stopwords\n",
    "from nltk.stem import WordNetLemmatizer\n",
    "ps = WordNetLemmatizer()\n",
    "c = []\n",
    "for i in range(0, len(x)):\n",
    "    r=re.sub('[^a-zA-Z]', ' ',x['Resume'][i])\n",
    "    r=r.lower()\n",
    "    r=r.split()\n",
    "\n",
    "    r=[ps.lemmatize(word) for word in r if not word in stopwords.words('english')]\n",
    "    r=' '.join(r)\n",
    "    c.append(r)\n"
   ]
  },
  {
   "cell_type": "code",
   "execution_count": 547,
   "id": "c2b5772b",
   "metadata": {},
   "outputs": [],
   "source": [
    "from sklearn.feature_extraction.text import CountVectorizer\n",
    "cv = CountVectorizer()\n",
    "x = cv.fit_transform(c).toarray()"
   ]
  },
  {
   "cell_type": "code",
   "execution_count": 615,
   "id": "f89511ba",
   "metadata": {},
   "outputs": [
    {
     "data": {
      "text/plain": [
       "array([0, 0, 0, 0, 0, 0, 0, 0, 0, 0, 0, 0, 0, 0, 0, 0, 0, 0, 0, 0, 0, 0,\n",
       "       0, 0, 0, 0, 0, 0, 0, 0, 0, 0, 0, 0, 0, 0, 0, 0, 0, 0, 1, 1, 1, 1,\n",
       "       1, 1, 1, 1, 1, 1, 1, 1, 1, 1, 1, 1, 1, 1, 1, 1, 1, 1, 1, 1, 1, 1,\n",
       "       1, 1, 1, 1, 1, 1, 1, 1, 1, 1, 1, 1, 1, 1, 1, 1, 1, 1, 1, 0, 0, 0,\n",
       "       0, 0, 0, 0, 0, 0, 0, 0, 0, 0, 0, 0, 0, 0, 0, 0, 0, 0, 0, 0, 0, 0,\n",
       "       0, 0, 0, 0, 0, 0, 0, 0, 0, 0, 0, 0, 0, 0, 0, 0, 0, 0, 0, 0, 0, 0,\n",
       "       0, 0, 0, 0, 0, 0, 0, 0, 0, 0, 0, 0, 0, 0, 0, 0, 0, 0, 0, 0, 0, 0,\n",
       "       0, 0, 0, 0, 0, 0, 0, 0, 0, 0, 0, 0, 0, 0, 0, 0, 0, 0, 0, 0, 0, 0,\n",
       "       0, 0, 0, 0, 0, 0, 0, 0, 0, 0, 0, 0, 0, 0, 0, 0, 0, 0, 0, 0, 0, 0,\n",
       "       0, 0, 0, 0, 0, 0, 0, 0, 0, 0, 0, 0, 0, 0, 0, 0, 0, 0, 0, 0, 0, 0,\n",
       "       0, 0, 0, 0, 0, 0, 0, 0, 0, 0, 0, 0, 0], dtype=int64)"
      ]
     },
     "execution_count": 615,
     "metadata": {},
     "output_type": "execute_result"
    }
   ],
   "source": [
    "y1"
   ]
  },
  {
   "cell_type": "code",
   "execution_count": 548,
   "id": "26bcb32a",
   "metadata": {},
   "outputs": [],
   "source": [
    "y1=file1[['Category']]\n",
    "y1=y1.to_numpy().flatten()\n",
    "y2=file2[['Category']]\n",
    "y2=y2.to_numpy().flatten()\n",
    "y3=file3[['Category']]\n",
    "y3=y3.to_numpy().flatten()\n",
    "y4=file4[['Category']]\n",
    "y4=y4.to_numpy().flatten()\n",
    "y5=file5[['Category']]\n",
    "y5=y5.to_numpy().flatten()"
   ]
  },
  {
   "cell_type": "code",
   "execution_count": 549,
   "id": "517a2e55",
   "metadata": {},
   "outputs": [
    {
     "name": "stdout",
     "output_type": "stream",
     "text": [
      "[0 0 0 0 0 0 0 0 0 0 0 0 0 0 0 0 0 0 0 0 0 0 0 0 0 0 0 0 0 0 0 0 0 0 0 0 0\n",
      " 0 0 0 1 1 1 1 1 1 1 1 1 1 1 1 1 1 1 1 1 1 1 1 1 1 1 1 1 1 1 1 1 1 1 1 1 1\n",
      " 1 1 1 1 1 1 1 1 1 1 1 0 0 0 0 0 0 0 0 0 0 0 0 0 0 0 0 0 0 0 0 0 0 0 0 0 0\n",
      " 0 0 0 0 0 0 0 0 0 0 0 0 0 0 0 0 0 0 0 0 0 0 0 0 0 0 0 0 0 0 0 0 0 0 0 0 0\n",
      " 0 0 0 0 0 0 0 0 0 0 0 0 0 0 0 0 0 0 0 0 0 0 0 0 0 0 0 0 0 0 0 0 0 0 0 0 0\n",
      " 0 0 0 0 0 0 0 0 0 0 0 0 0 0 0 0 0 0 0 0 0 0 0 0 0 0 0 0 0 0 0 0 0 0 0 0 0\n",
      " 0 0 0 0 0 0 0 0 0 0 0]\n",
      "[0 0 0 0 0 0 0 0 0 0 0 0 0 0 0 0 0 0 0 0 0 0 0 0 0 0 0 0 0 0 0 0 0 0 0 0 0\n",
      " 0 0 0 0 0 0 0 0 0 0 0 0 0 0 0 0 0 0 0 0 0 0 0 0 0 0 0 0 0 0 0 0 0 0 0 0 0\n",
      " 0 0 0 0 0 0 0 0 0 0 0 0 0 0 0 0 0 0 0 0 0 0 0 0 0 0 0 0 0 0 0 0 0 0 0 0 0\n",
      " 0 0 0 0 0 0 0 0 0 0 0 0 0 0 0 0 0 0 0 0 0 0 0 0 0 0 0 0 0 0 0 0 0 0 0 0 0\n",
      " 0 1 1 1 1 1 1 1 1 1 1 1 1 1 1 1 1 1 1 1 1 1 1 1 1 1 1 1 1 1 1 1 1 1 1 1 1\n",
      " 1 1 1 1 1 1 1 1 1 1 1 1 1 1 1 1 1 1 1 1 1 1 1 1 1 1 1 1 1 1 1 1 1 1 1 1 1\n",
      " 1 1 1 1 1 1 1 1 1 1 1]\n",
      "[1 1 1 1 1 1 1 1 1 1 1 1 1 1 1 1 1 1 1 1 1 1 1 1 1 1 1 1 1 1 1 1 1 1 1 1 1\n",
      " 1 1 1 0 0 0 0 0 0 0 0 0 0 0 0 0 0 0 0 0 0 0 0 0 0 0 0 0 0 0 0 0 0 0 0 0 0\n",
      " 0 0 0 0 0 0 0 0 0 0 0 0 0 0 0 0 0 0 0 0 0 0 0 0 0 0 0 0 0 0 0 0 0 0 0 0 0\n",
      " 0 0 0 0 0 0 0 0 0 0 0 0 0 0 0 0 0 0 0 0 0 0 0 0 0 0 0 0 0 0 0 0 0 0 0 0 0\n",
      " 0 0 0 0 0 0 0 0 0 0 0 0 0 0 0 0 0 0 0 0 0 0 0 0 0 0 0 0 0 0 0 0 0 0 0 0 0\n",
      " 0 0 0 0 0 0 0 0 0 0 0 0 0 0 0 0 0 0 0 0 0 0 0 0 0 0 0 0 0 0 0 0 0 0 0 0 0\n",
      " 0 0 0 0 0 0 0 0 0 0 0]\n",
      "[0 0 0 0 0 0 0 0 0 0 0 0 0 0 0 0 0 0 0 0 0 0 0 0 0 0 0 0 0 0 0 0 0 0 0 0 0\n",
      " 0 0 0 0 0 0 0 0 0 0 0 0 0 0 0 0 0 0 0 0 0 0 0 0 0 0 0 0 0 0 0 0 0 0 0 0 0\n",
      " 0 0 0 0 0 0 0 0 0 0 0 0 0 0 0 0 0 0 0 0 0 0 0 0 0 0 0 0 0 0 0 0 0 0 0 0 0\n",
      " 0 0 0 0 0 0 0 0 0 0 0 0 0 0 1 1 1 1 1 1 1 1 1 1 1 1 1 1 1 1 1 1 1 1 1 1 1\n",
      " 1 0 0 0 0 0 0 0 0 0 0 0 0 0 0 0 0 0 0 0 0 0 0 0 0 0 0 0 0 0 0 0 0 0 0 0 0\n",
      " 0 0 0 0 0 0 0 0 0 0 0 0 0 0 0 0 0 0 0 0 0 0 0 0 0 0 0 0 0 0 0 0 0 0 0 0 0\n",
      " 0 0 0 0 0 0 0 0 0 0 0]\n",
      "[0 0 0 0 0 0 0 0 0 0 0 0 0 0 0 0 0 0 0 0 0 0 0 0 0 0 0 0 0 0 0 0 0 0 0 0 0\n",
      " 0 0 0 0 0 0 0 0 0 0 0 0 0 0 0 0 0 0 0 0 0 0 0 0 0 0 0 0 0 0 0 0 0 0 0 0 0\n",
      " 0 0 0 0 0 0 0 0 0 0 0 1 1 1 1 1 1 1 1 1 1 1 1 1 1 1 1 1 1 1 1 1 1 1 1 1 1\n",
      " 1 1 1 1 1 1 1 1 1 1 1 1 1 1 0 0 0 0 0 0 0 0 0 0 0 0 0 0 0 0 0 0 0 0 0 0 0\n",
      " 0 0 0 0 0 0 0 0 0 0 0 0 0 0 0 0 0 0 0 0 0 0 0 0 0 0 0 0 0 0 0 0 0 0 0 0 0\n",
      " 0 0 0 0 0 0 0 0 0 0 0 0 0 0 0 0 0 0 0 0 0 0 0 0 0 0 0 0 0 0 0 0 0 0 0 0 0\n",
      " 0 0 0 0 0 0 0 0 0 0 0]\n"
     ]
    }
   ],
   "source": [
    "print(y1)\n",
    "print(y2)\n",
    "print(y3)\n",
    "print(y4)\n",
    "print(y5)\n"
   ]
  },
  {
   "cell_type": "code",
   "execution_count": 551,
   "id": "4e8d140a",
   "metadata": {},
   "outputs": [],
   "source": [
    "from sklearn.model_selection import train_test_split\n",
    "from sklearn.linear_model import LogisticRegression"
   ]
  },
  {
   "cell_type": "code",
   "execution_count": 580,
   "id": "d3cd7250",
   "metadata": {},
   "outputs": [],
   "source": [
    "\n",
    "x1_train,x1_test,y1_train,y1_test=train_test_split(x,y1,test_size=0.2,random_state=0)\n",
    "x2_train,x2_test,y2_train,y2_test=train_test_split(x,y2,test_size=1/3,random_state=10)\n",
    "x3_train,x3_test,y3_train,y3_test=train_test_split(x,y3,test_size=1/3,random_state=2)\n",
    "x4_train,x4_test,y4_train,y4_test=train_test_split(x,y4,test_size=1/3,random_state=2)\n",
    "x5_train,x5_test,y5_train,y5_test=train_test_split(x,y5,test_size=1/6,random_state=2)"
   ]
  },
  {
   "cell_type": "code",
   "execution_count": 581,
   "id": "05c36508",
   "metadata": {},
   "outputs": [
    {
     "data": {
      "text/plain": [
       "LogisticRegression()"
      ]
     },
     "execution_count": 581,
     "metadata": {},
     "output_type": "execute_result"
    }
   ],
   "source": [
    "lr1=LogisticRegression()\n",
    "lr2=LogisticRegression()\n",
    "lr3=LogisticRegression()\n",
    "lr4=LogisticRegression()\n",
    "lr5=LogisticRegression()\n",
    "lr1.fit(x1_train,y1_train)\n",
    "lr2.fit(x2_train,y2_train)\n",
    "lr3.fit(x3_train,y3_train)\n",
    "lr4.fit(x4_train,y4_train)\n",
    "lr5.fit(x5_train,y5_train)"
   ]
  },
  {
   "cell_type": "code",
   "execution_count": 582,
   "id": "7529f42e",
   "metadata": {},
   "outputs": [],
   "source": [
    "y_pred1=lr1.predict(x1_test)\n",
    "y_pred2=lr2.predict(x2_test)\n",
    "y_pred3=lr3.predict(x3_test)\n",
    "y_pred4=lr4.predict(x4_test)\n",
    "y_pred5=lr5.predict(x5_test)"
   ]
  },
  {
   "cell_type": "code",
   "execution_count": 596,
   "id": "46b90277",
   "metadata": {
    "scrolled": false
   },
   "outputs": [
    {
     "name": "stdout",
     "output_type": "stream",
     "text": [
      "[0 0 0 0 0 0 0 0 0 0 0 0 0 0 0 0 1 0 0 0 0 1 0 0 0 0 0 1 0 0 0 0 1 0 0 0 0\n",
      " 0 0 1 0 0 0 0 0 0 0]\n",
      "[0 0 0 0 0 0 0 0 0 0 0 0 0 0 0 0 1 0 0 0 0 1 0 0 0 0 0 1 0 0 0 0 1 0 0 0 0\n",
      " 0 0 1 0 0 0 0 0 0 0]\n"
     ]
    }
   ],
   "source": [
    "print(y_pred1)\n",
    "print(y1_test)"
   ]
  },
  {
   "cell_type": "code",
   "execution_count": 584,
   "id": "b1d25a19",
   "metadata": {},
   "outputs": [
    {
     "name": "stdout",
     "output_type": "stream",
     "text": [
      "              precision    recall  f1-score   support\n",
      "\n",
      "           0       1.00      1.00      1.00        42\n",
      "           1       1.00      1.00      1.00         5\n",
      "\n",
      "    accuracy                           1.00        47\n",
      "   macro avg       1.00      1.00      1.00        47\n",
      "weighted avg       1.00      1.00      1.00        47\n",
      "\n",
      "              precision    recall  f1-score   support\n",
      "\n",
      "           0       1.00      1.00      1.00        60\n",
      "           1       1.00      1.00      1.00        18\n",
      "\n",
      "    accuracy                           1.00        78\n",
      "   macro avg       1.00      1.00      1.00        78\n",
      "weighted avg       1.00      1.00      1.00        78\n",
      "\n",
      "              precision    recall  f1-score   support\n",
      "\n",
      "           0       1.00      1.00      1.00        71\n",
      "           1       1.00      1.00      1.00         7\n",
      "\n",
      "    accuracy                           1.00        78\n",
      "   macro avg       1.00      1.00      1.00        78\n",
      "weighted avg       1.00      1.00      1.00        78\n",
      "\n"
     ]
    }
   ],
   "source": [
    "from sklearn.metrics import classification_report\n",
    "\n",
    "print(classification_report(y_pred1, y1_test))\n",
    "#print(classification_report(y_pred2, y2_test))\n",
    "print(classification_report(y_pred3, y3_test))\n",
    "print(classification_report(y_pred4, y4_test))"
   ]
  },
  {
   "cell_type": "code",
   "execution_count": 585,
   "id": "2674fdef",
   "metadata": {
    "scrolled": true
   },
   "outputs": [
    {
     "data": {
      "text/html": [
       "<div>\n",
       "<style scoped>\n",
       "    .dataframe tbody tr th:only-of-type {\n",
       "        vertical-align: middle;\n",
       "    }\n",
       "\n",
       "    .dataframe tbody tr th {\n",
       "        vertical-align: top;\n",
       "    }\n",
       "\n",
       "    .dataframe thead th {\n",
       "        text-align: right;\n",
       "    }\n",
       "</style>\n",
       "<table border=\"1\" class=\"dataframe\">\n",
       "  <thead>\n",
       "    <tr style=\"text-align: right;\">\n",
       "      <th></th>\n",
       "      <th>Category</th>\n",
       "      <th>Resume</th>\n",
       "    </tr>\n",
       "  </thead>\n",
       "  <tbody>\n",
       "    <tr>\n",
       "      <th>892</th>\n",
       "      <td>Testing</td>\n",
       "      <td>Ã¢Â€Â¢ Good logical and analytical skills Ã¢Â€...</td>\n",
       "    </tr>\n",
       "    <tr>\n",
       "      <th>893</th>\n",
       "      <td>Testing</td>\n",
       "      <td>COMPUTER PROFICIENCY Ã¢Â€Â¢ Basic: MS-Office (...</td>\n",
       "    </tr>\n",
       "    <tr>\n",
       "      <th>894</th>\n",
       "      <td>Testing</td>\n",
       "      <td>Computer Skills: Ã¢Â€Â¢ Proficient in MS offic...</td>\n",
       "    </tr>\n",
       "    <tr>\n",
       "      <th>895</th>\n",
       "      <td>Testing</td>\n",
       "      <td>Ã¢ÂÂ– Willingness to accept the challenges. Ã...</td>\n",
       "    </tr>\n",
       "    <tr>\n",
       "      <th>896</th>\n",
       "      <td>Testing</td>\n",
       "      <td>PERSONAL SKILLS Ã¢Â€Â¢ Quick learner, Ã¢Â€Â¢ E...</td>\n",
       "    </tr>\n",
       "    <tr>\n",
       "      <th>...</th>\n",
       "      <td>...</td>\n",
       "      <td>...</td>\n",
       "    </tr>\n",
       "    <tr>\n",
       "      <th>956</th>\n",
       "      <td>Testing</td>\n",
       "      <td>COMPUTER PROFICIENCY Ã¢Â€Â¢ Basic: MS-Office (...</td>\n",
       "    </tr>\n",
       "    <tr>\n",
       "      <th>957</th>\n",
       "      <td>Testing</td>\n",
       "      <td>Computer Skills: Ã¢Â€Â¢ Proficient in MS offic...</td>\n",
       "    </tr>\n",
       "    <tr>\n",
       "      <th>958</th>\n",
       "      <td>Testing</td>\n",
       "      <td>Ã¢ÂÂ– Willingness to accept the challenges. Ã...</td>\n",
       "    </tr>\n",
       "    <tr>\n",
       "      <th>959</th>\n",
       "      <td>Testing</td>\n",
       "      <td>PERSONAL SKILLS Ã¢Â€Â¢ Quick learner, Ã¢Â€Â¢ E...</td>\n",
       "    </tr>\n",
       "    <tr>\n",
       "      <th>960</th>\n",
       "      <td>Testing</td>\n",
       "      <td>COMPUTER SKILLS &amp; SOFTWARE KNOWLEDGE MS-Power ...</td>\n",
       "    </tr>\n",
       "  </tbody>\n",
       "</table>\n",
       "<p>69 rows × 2 columns</p>\n",
       "</div>"
      ],
      "text/plain": [
       "    Category                                             Resume\n",
       "892  Testing  Ã¢Â€Â¢ Good logical and analytical skills Ã¢Â€...\n",
       "893  Testing  COMPUTER PROFICIENCY Ã¢Â€Â¢ Basic: MS-Office (...\n",
       "894  Testing  Computer Skills: Ã¢Â€Â¢ Proficient in MS offic...\n",
       "895  Testing  Ã¢ÂÂ– Willingness to accept the challenges. Ã...\n",
       "896  Testing  PERSONAL SKILLS Ã¢Â€Â¢ Quick learner, Ã¢Â€Â¢ E...\n",
       "..       ...                                                ...\n",
       "956  Testing  COMPUTER PROFICIENCY Ã¢Â€Â¢ Basic: MS-Office (...\n",
       "957  Testing  Computer Skills: Ã¢Â€Â¢ Proficient in MS offic...\n",
       "958  Testing  Ã¢ÂÂ– Willingness to accept the challenges. Ã...\n",
       "959  Testing  PERSONAL SKILLS Ã¢Â€Â¢ Quick learner, Ã¢Â€Â¢ E...\n",
       "960  Testing  COMPUTER SKILLS & SOFTWARE KNOWLEDGE MS-Power ...\n",
       "\n",
       "[69 rows x 2 columns]"
      ]
     },
     "execution_count": 585,
     "metadata": {},
     "output_type": "execute_result"
    }
   ],
   "source": [
    "f=pd.read_csv(\"resu.csv\")\n",
    "f=f.iloc[892:961]\n",
    "f"
   ]
  },
  {
   "cell_type": "code",
   "execution_count": 621,
   "id": "ee2b5be3",
   "metadata": {},
   "outputs": [
    {
     "data": {
      "text/plain": [
       "'Ã¢Â€Â¢ Good logical and analytical skills Ã¢Â€Â¢ Positive attitude towards solving problems and accepting challenges Ã¢Â€Â¢ A team player & leader Ã¢Â€Â¢ A good organizer PRESONAL DETAILS: DOB: 20/07/1995. Marital status: Single.Education Details _x000D_\\nJuly 2015 to June 2018 BE Electrical Pune, Maharashtra Sinhagad institute of technology_x000D_\\nJanuary 2012 DIPLOMA MSBTE Kopargaon, MAHARASHTRA, IN K.B.P.Polytechnic_x000D_\\nJanuary 2010 SSC S.G.Vidyalaya  state board_x000D_\\nTesting Engineer _x000D_\\n_x000D_\\nElectrical engineer_x000D_\\nSkill Details _x000D_\\nCompany Details _x000D_\\ncompany - Intelux Electronics Pvt Ltd_x000D_\\ndescription - 1. Power management system Testing department'"
      ]
     },
     "execution_count": 621,
     "metadata": {},
     "output_type": "execute_result"
    }
   ],
   "source": [
    "X=f['Resume'][892]\n",
    "X"
   ]
  },
  {
   "cell_type": "code",
   "execution_count": 609,
   "id": "f23a7755",
   "metadata": {},
   "outputs": [],
   "source": [
    "s=X\n",
    "r=[]\n",
    "p=re.sub('[^a-zA-Z]', ' ',s)\n",
    "p = p.lower()\n",
    "p = p.split()\n",
    "p = [ps.lemmatize(word) for word in p if not word in stopwords.words('english')]\n",
    "p = ' '.join(p)\n",
    "\n",
    "r.append(p)\n",
    "\n",
    "z=cv.transform(r).toarray()"
   ]
  },
  {
   "cell_type": "code",
   "execution_count": 610,
   "id": "59f2fdcb",
   "metadata": {},
   "outputs": [],
   "source": [
    "sc1=lr1.predict(z)\n",
    "sc2=lr2.predict(z)\n",
    "sc3=lr3.predict(z)\n",
    "sc4=lr4.predict(z)\n",
    "sc5=lr5.predict(z)"
   ]
  },
  {
   "cell_type": "code",
   "execution_count": 611,
   "id": "f5607b3a",
   "metadata": {},
   "outputs": [],
   "source": [
    "pro1=lr1.predict_proba(z)\n",
    "pro2=lr2.predict_proba(z)\n",
    "pro3=lr3.predict_proba(z)\n",
    "pro4=lr4.predict_proba(z)\n",
    "pro5=lr5.predict_proba(z)"
   ]
  },
  {
   "cell_type": "code",
   "execution_count": 612,
   "id": "5c5cca09",
   "metadata": {},
   "outputs": [
    {
     "name": "stdout",
     "output_type": "stream",
     "text": [
      "0.011355706439879456\n",
      "0.14006462688382088\n",
      "0.003572101491805517\n",
      "0.0018707068257478342\n",
      "0.000976979618998745\n"
     ]
    }
   ],
   "source": [
    "print(pro1[0,1])\n",
    "print(pro2[0,1])\n",
    "print(pro3[0,1])\n",
    "print(pro4[0,1])\n",
    "print(pro5[0,1])"
   ]
  },
  {
   "cell_type": "code",
   "execution_count": 616,
   "id": "b58cfec2",
   "metadata": {},
   "outputs": [
    {
     "ename": "TypeError",
     "evalue": "can only concatenate str (not \"numpy.float64\") to str",
     "output_type": "error",
     "traceback": [
      "\u001b[1;31m---------------------------------------------------------------------------\u001b[0m",
      "\u001b[1;31mTypeError\u001b[0m                                 Traceback (most recent call last)",
      "\u001b[1;32m~\\AppData\\Local\\Temp/ipykernel_152/1304586367.py\u001b[0m in \u001b[0;36m<module>\u001b[1;34m\u001b[0m\n\u001b[1;32m----> 1\u001b[1;33m \u001b[0mprint\u001b[0m\u001b[1;33m(\u001b[0m\u001b[1;34m\"Web Score-\"\u001b[0m\u001b[1;33m+\u001b[0m\u001b[1;34m\"=\"\u001b[0m\u001b[1;33m+\u001b[0m\u001b[0mpro1\u001b[0m\u001b[1;33m[\u001b[0m\u001b[1;36m0\u001b[0m\u001b[1;33m,\u001b[0m\u001b[1;36m1\u001b[0m\u001b[1;33m]\u001b[0m\u001b[1;33m*\u001b[0m\u001b[1;36m100\u001b[0m\u001b[1;33m)\u001b[0m\u001b[1;33m\u001b[0m\u001b[1;33m\u001b[0m\u001b[0m\n\u001b[0m\u001b[0;32m      2\u001b[0m \u001b[0mprint\u001b[0m\u001b[1;33m(\u001b[0m\u001b[0mpro2\u001b[0m\u001b[1;33m[\u001b[0m\u001b[1;36m0\u001b[0m\u001b[1;33m,\u001b[0m\u001b[1;36m1\u001b[0m\u001b[1;33m]\u001b[0m\u001b[1;33m*\u001b[0m\u001b[1;36m100\u001b[0m\u001b[1;33m)\u001b[0m\u001b[1;33m\u001b[0m\u001b[1;33m\u001b[0m\u001b[0m\n\u001b[0;32m      3\u001b[0m \u001b[0mprint\u001b[0m\u001b[1;33m(\u001b[0m\u001b[0mpro3\u001b[0m\u001b[1;33m[\u001b[0m\u001b[1;36m0\u001b[0m\u001b[1;33m,\u001b[0m\u001b[1;36m1\u001b[0m\u001b[1;33m]\u001b[0m\u001b[1;33m*\u001b[0m\u001b[1;36m100\u001b[0m\u001b[1;33m)\u001b[0m\u001b[1;33m\u001b[0m\u001b[1;33m\u001b[0m\u001b[0m\n\u001b[0;32m      4\u001b[0m \u001b[0mprint\u001b[0m\u001b[1;33m(\u001b[0m\u001b[0mpro4\u001b[0m\u001b[1;33m[\u001b[0m\u001b[1;36m0\u001b[0m\u001b[1;33m,\u001b[0m\u001b[1;36m1\u001b[0m\u001b[1;33m]\u001b[0m\u001b[1;33m*\u001b[0m\u001b[1;36m100\u001b[0m\u001b[1;33m)\u001b[0m\u001b[1;33m\u001b[0m\u001b[1;33m\u001b[0m\u001b[0m\n\u001b[0;32m      5\u001b[0m \u001b[0mprint\u001b[0m\u001b[1;33m(\u001b[0m\u001b[0mpro5\u001b[0m\u001b[1;33m[\u001b[0m\u001b[1;36m0\u001b[0m\u001b[1;33m,\u001b[0m\u001b[1;36m1\u001b[0m\u001b[1;33m]\u001b[0m\u001b[1;33m*\u001b[0m\u001b[1;36m100\u001b[0m\u001b[1;33m)\u001b[0m\u001b[1;33m\u001b[0m\u001b[1;33m\u001b[0m\u001b[0m\n",
      "\u001b[1;31mTypeError\u001b[0m: can only concatenate str (not \"numpy.float64\") to str"
     ]
    }
   ],
   "source": [
    "print(pro1[0,1]*100)\n",
    "print(pro2[0,1]*100)\n",
    "print(pro3[0,1]*100)\n",
    "print(pro4[0,1]*100)\n",
    "print(pro5[0,1]*100)"
   ]
  },
  {
   "cell_type": "code",
   "execution_count": null,
   "id": "b4b904ec",
   "metadata": {},
   "outputs": [],
   "source": []
  },
  {
   "cell_type": "code",
   "execution_count": null,
   "id": "5ff590f1",
   "metadata": {},
   "outputs": [],
   "source": []
  },
  {
   "cell_type": "code",
   "execution_count": null,
   "id": "e0638ef4",
   "metadata": {},
   "outputs": [],
   "source": []
  }
 ],
 "metadata": {
  "kernelspec": {
   "display_name": "Python 3 (ipykernel)",
   "language": "python",
   "name": "python3"
  },
  "language_info": {
   "codemirror_mode": {
    "name": "ipython",
    "version": 3
   },
   "file_extension": ".py",
   "mimetype": "text/x-python",
   "name": "python",
   "nbconvert_exporter": "python",
   "pygments_lexer": "ipython3",
   "version": "3.9.7"
  }
 },
 "nbformat": 4,
 "nbformat_minor": 5
}
